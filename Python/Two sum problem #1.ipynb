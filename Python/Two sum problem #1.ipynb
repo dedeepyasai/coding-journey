{
 "cells": [
  {
   "cell_type": "code",
   "execution_count": null,
   "id": "dba3c2e7",
   "metadata": {},
   "outputs": [],
   "source": [
    "# Leet code questions:\n",
    "    \n",
    "# 1. Two Sum\n",
    "\n",
    "# Given an array of integers nums and an integer target, return indices of the two numbers such that they add up to target.\n",
    "\n",
    "# You may assume that each input would have exactly one solution, and you may not use the same element twice.\n",
    "\n",
    "# You can return the answer in any order.\n",
    "\n",
    "# Example 1:\n",
    "\n",
    "# Input: nums = [2,7,11,15], target = 9\n",
    "# Output: [0,1]\n",
    "# Explanation: Because nums[0] + nums[1] == 9, we return [0, 1].\n",
    "\n",
    "\n",
    "# Example 2:\n",
    "\n",
    "# Input: nums = [3,2,4], target = 6\n",
    "# Output: [1,2]\n",
    "\n",
    "\n",
    "# Constraints:\n",
    "\n",
    "# 2 <= nums.length <= 104\n",
    "# -109 <= nums[i] <= 109\n",
    "# -109 <= target <= 109\n",
    "# Only one valid answer exists.\n"
   ]
  },
  {
   "cell_type": "code",
   "execution_count": null,
   "id": "f74b9c10",
   "metadata": {},
   "outputs": [],
   "source": [
    "def twoSum(nums, target):\n",
    "        n =len(nums)\n",
    "        result = []\n",
    "        for i in range(0,n):\n",
    "                if target - nums[i] in nums:\n",
    "                    index1 = nums.index(target-nums[i])\n",
    "                    if i!= index1:\n",
    "                        return [index1,i]\n",
    "        return result     "
   ]
  },
  {
   "cell_type": "code",
   "execution_count": null,
   "id": "dea2b593",
   "metadata": {},
   "outputs": [],
   "source": [
    "nums = [2,5,5,11]\n",
    "target = 10\n",
    "\n",
    "print(\"Answer is:\")\n",
    "\n",
    "print(twoSum(nums,target))"
   ]
  }
 ],
 "metadata": {
  "kernelspec": {
   "display_name": "Python 3",
   "language": "python",
   "name": "python3"
  },
  "language_info": {
   "codemirror_mode": {
    "name": "ipython",
    "version": 3
   },
   "file_extension": ".py",
   "mimetype": "text/x-python",
   "name": "python",
   "nbconvert_exporter": "python",
   "pygments_lexer": "ipython3",
   "version": "3.8.11"
  }
 },
 "nbformat": 4,
 "nbformat_minor": 5
}
